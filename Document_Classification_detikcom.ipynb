{
  "nbformat": 4,
  "nbformat_minor": 0,
  "metadata": {
    "colab": {
      "name": "Document Classification - detikcom.ipynb",
      "provenance": [],
      "collapsed_sections": [
        "Ri_CNJI3LTAT",
        "tLMVw1usLQfW",
        "7QvLrLeJLZZz",
        "KZoK9eSVSZc5",
        "Nqdlf7gfQF3-",
        "gEcSLD6fQL7S",
        "_ZMUwe1ImyEY",
        "GpxVqaKxm1VZ",
        "FBtyZWMrQORt",
        "JZzFFlNzo29p",
        "c6hG3QtVo5hb",
        "MHX4tc84Lm_K",
        "HWZIh6M7wecT",
        "RYrVCitjumOJ"
      ],
      "toc_visible": true
    },
    "kernelspec": {
      "name": "python3",
      "display_name": "Python 3"
    }
  },
  "cells": [
    {
      "cell_type": "markdown",
      "metadata": {
        "id": "Ri_CNJI3LTAT",
        "colab_type": "text"
      },
      "source": [
        "# Import Library"
      ]
    },
    {
      "cell_type": "code",
      "metadata": {
        "id": "ChY3jZZSKwu4",
        "colab_type": "code",
        "colab": {}
      },
      "source": [
        "import nltk\n",
        "import pandas as pd\n",
        "import numpy as np\n",
        "import math\n",
        "from nltk.corpus import stopwords\n",
        "from nltk.tokenize import RegexpTokenizer\n",
        "from sklearn.pipeline import Pipeline\n",
        "from sklearn.feature_extraction.text import CountVectorizer, TfidfTransformer\n",
        "from sklearn.naive_bayes import MultinomialNB, GaussianNB\n",
        "from sklearn.preprocessing import LabelEncoder\n",
        "from sklearn.metrics import accuracy_score\n",
        "from sklearn.model_selection import cross_val_score\n",
        "import warnings\n",
        "warnings.filterwarnings(\"ignore\", category=UserWarning)"
      ],
      "execution_count": 0,
      "outputs": []
    },
    {
      "cell_type": "markdown",
      "metadata": {
        "id": "tLMVw1usLQfW",
        "colab_type": "text"
      },
      "source": [
        "# Read Data"
      ]
    },
    {
      "cell_type": "code",
      "metadata": {
        "id": "t0Y-rRHWLPUD",
        "colab_type": "code",
        "colab": {}
      },
      "source": [
        "df = pd.read_csv('dataset.csv',index_col=0)"
      ],
      "execution_count": 0,
      "outputs": []
    },
    {
      "cell_type": "code",
      "metadata": {
        "id": "jm5Px-l833Mn",
        "colab_type": "code",
        "colab": {}
      },
      "source": [
        "df = df.sort_values('judul',ignore_index=True)"
      ],
      "execution_count": 0,
      "outputs": []
    },
    {
      "cell_type": "code",
      "metadata": {
        "id": "sjwIEVxvVFgC",
        "colab_type": "code",
        "outputId": "4876ef22-7923-4a49-a531-c0a009ea497e",
        "colab": {
          "base_uri": "https://localhost:8080/",
          "height": 0
        }
      },
      "source": [
        "df.head()"
      ],
      "execution_count": 4,
      "outputs": [
        {
          "output_type": "execute_result",
          "data": {
            "text/html": [
              "<div>\n",
              "<style scoped>\n",
              "    .dataframe tbody tr th:only-of-type {\n",
              "        vertical-align: middle;\n",
              "    }\n",
              "\n",
              "    .dataframe tbody tr th {\n",
              "        vertical-align: top;\n",
              "    }\n",
              "\n",
              "    .dataframe thead th {\n",
              "        text-align: right;\n",
              "    }\n",
              "</style>\n",
              "<table border=\"1\" class=\"dataframe\">\n",
              "  <thead>\n",
              "    <tr style=\"text-align: right;\">\n",
              "      <th></th>\n",
              "      <th>judul</th>\n",
              "      <th>konten</th>\n",
              "      <th>kategori</th>\n",
              "    </tr>\n",
              "  </thead>\n",
              "  <tbody>\n",
              "    <tr>\n",
              "      <th>0</th>\n",
              "      <td>Air Terjun 7 Bidadari yang Tersembunyi di Lahat</td>\n",
              "      <td>NaN</td>\n",
              "      <td>travel</td>\n",
              "    </tr>\n",
              "    <tr>\n",
              "      <th>1</th>\n",
              "      <td>Bima dan Pantai Kolo</td>\n",
              "      <td>NaN</td>\n",
              "      <td>travel</td>\n",
              "    </tr>\n",
              "    <tr>\n",
              "      <th>2</th>\n",
              "      <td>Cha-Am, Tempat Anti Mainstream di Thailand</td>\n",
              "      <td>NaN</td>\n",
              "      <td>travel</td>\n",
              "    </tr>\n",
              "    <tr>\n",
              "      <th>3</th>\n",
              "      <td>Obat Rindu ke Museum Maritim</td>\n",
              "      <td>Pada masa lalu, bangsa Indonesia terkenal akan...</td>\n",
              "      <td>travel</td>\n",
              "    </tr>\n",
              "    <tr>\n",
              "      <th>4</th>\n",
              "      <td>Rasanya Kangen Touring Naik Motor ke Gunung M...</td>\n",
              "      <td>NaN</td>\n",
              "      <td>travel</td>\n",
              "    </tr>\n",
              "  </tbody>\n",
              "</table>\n",
              "</div>"
            ],
            "text/plain": [
              "                                               judul  ... kategori\n",
              "0    Air Terjun 7 Bidadari yang Tersembunyi di Lahat  ...   travel\n",
              "1                               Bima dan Pantai Kolo  ...   travel\n",
              "2         Cha-Am, Tempat Anti Mainstream di Thailand  ...   travel\n",
              "3                       Obat Rindu ke Museum Maritim  ...   travel\n",
              "4   Rasanya Kangen Touring Naik Motor ke Gunung M...  ...   travel\n",
              "\n",
              "[5 rows x 3 columns]"
            ]
          },
          "metadata": {
            "tags": []
          },
          "execution_count": 4
        }
      ]
    },
    {
      "cell_type": "code",
      "metadata": {
        "id": "fPz6zwdYopcu",
        "colab_type": "code",
        "outputId": "e18b3478-b72f-434f-ff76-b8f6898e461a",
        "colab": {
          "base_uri": "https://localhost:8080/",
          "height": 0
        }
      },
      "source": [
        "df.shape"
      ],
      "execution_count": 5,
      "outputs": [
        {
          "output_type": "execute_result",
          "data": {
            "text/plain": [
              "(1333, 3)"
            ]
          },
          "metadata": {
            "tags": []
          },
          "execution_count": 5
        }
      ]
    },
    {
      "cell_type": "code",
      "metadata": {
        "id": "BRvWR1SR76X4",
        "colab_type": "code",
        "outputId": "bb359e0c-8f8c-44fe-c7d1-aafd4725bef7",
        "colab": {
          "base_uri": "https://localhost:8080/",
          "height": 0
        }
      },
      "source": [
        "df['kategori'].value_counts()"
      ],
      "execution_count": 6,
      "outputs": [
        {
          "output_type": "execute_result",
          "data": {
            "text/plain": [
              "finance    796\n",
              "travel     317\n",
              "food       220\n",
              "Name: kategori, dtype: int64"
            ]
          },
          "metadata": {
            "tags": []
          },
          "execution_count": 6
        }
      ]
    },
    {
      "cell_type": "markdown",
      "metadata": {
        "id": "7QvLrLeJLZZz",
        "colab_type": "text"
      },
      "source": [
        "# Preprocessing"
      ]
    },
    {
      "cell_type": "markdown",
      "metadata": {
        "id": "JUjAft22WV3D",
        "colab_type": "text"
      },
      "source": [
        "## Missing Value"
      ]
    },
    {
      "cell_type": "code",
      "metadata": {
        "id": "seElqWLV4kB9",
        "colab_type": "code",
        "outputId": "6da855e8-8d42-4fc5-b004-e4104cedcf48",
        "colab": {
          "base_uri": "https://localhost:8080/",
          "height": 82
        }
      },
      "source": [
        "df['kategori'].value_counts() #Before Drop"
      ],
      "execution_count": 7,
      "outputs": [
        {
          "output_type": "execute_result",
          "data": {
            "text/plain": [
              "finance    796\n",
              "travel     317\n",
              "food       220\n",
              "Name: kategori, dtype: int64"
            ]
          },
          "metadata": {
            "tags": []
          },
          "execution_count": 7
        }
      ]
    },
    {
      "cell_type": "code",
      "metadata": {
        "id": "JgLGfOELWZ7e",
        "colab_type": "code",
        "outputId": "b63e64da-aaf7-4512-892b-57326f11ed77",
        "colab": {
          "base_uri": "https://localhost:8080/",
          "height": 33
        }
      },
      "source": [
        "df.isnull().any(axis=1).sum()"
      ],
      "execution_count": 8,
      "outputs": [
        {
          "output_type": "execute_result",
          "data": {
            "text/plain": [
              "68"
            ]
          },
          "metadata": {
            "tags": []
          },
          "execution_count": 8
        }
      ]
    },
    {
      "cell_type": "code",
      "metadata": {
        "id": "F47rv3FPzveT",
        "colab_type": "code",
        "colab": {}
      },
      "source": [
        "df = df.dropna(axis=0).reset_index().drop('index',axis=1)"
      ],
      "execution_count": 0,
      "outputs": []
    },
    {
      "cell_type": "code",
      "metadata": {
        "id": "oxgOikL-4oXd",
        "colab_type": "code",
        "outputId": "6b0b5124-c0bb-47ad-f9c8-4cedf42b2c57",
        "colab": {
          "base_uri": "https://localhost:8080/",
          "height": 82
        }
      },
      "source": [
        "df['kategori'].value_counts() #After Drop"
      ],
      "execution_count": 10,
      "outputs": [
        {
          "output_type": "execute_result",
          "data": {
            "text/plain": [
              "finance    771\n",
              "travel     295\n",
              "food       199\n",
              "Name: kategori, dtype: int64"
            ]
          },
          "metadata": {
            "tags": []
          },
          "execution_count": 10
        }
      ]
    },
    {
      "cell_type": "markdown",
      "metadata": {
        "id": "iKnruX8zLfTS",
        "colab_type": "text"
      },
      "source": [
        "## Case Folding"
      ]
    },
    {
      "cell_type": "code",
      "metadata": {
        "id": "Bn4d8Nb-LYlg",
        "colab_type": "code",
        "colab": {}
      },
      "source": [
        "df['judul'] = df['judul'].str.lower()"
      ],
      "execution_count": 0,
      "outputs": []
    },
    {
      "cell_type": "code",
      "metadata": {
        "id": "MMAseKil49AW",
        "colab_type": "code",
        "colab": {}
      },
      "source": [
        "df['konten'] = df['konten'].str.lower()"
      ],
      "execution_count": 0,
      "outputs": []
    },
    {
      "cell_type": "markdown",
      "metadata": {
        "id": "pDArZi1fLl6x",
        "colab_type": "text"
      },
      "source": [
        "## Tokenization"
      ]
    },
    {
      "cell_type": "code",
      "metadata": {
        "id": "NG4ZU6wWV_xd",
        "colab_type": "code",
        "colab": {}
      },
      "source": [
        "df['konten'] = df.apply(lambda row: ' '.join(RegexpTokenizer(r'\\w+').tokenize(row['konten'])), axis=1)"
      ],
      "execution_count": 0,
      "outputs": []
    },
    {
      "cell_type": "markdown",
      "metadata": {
        "id": "dgV3AwXHLo0n",
        "colab_type": "text"
      },
      "source": [
        "## Stopwords"
      ]
    },
    {
      "cell_type": "code",
      "metadata": {
        "id": "JubywAXuK_zT",
        "colab_type": "code",
        "outputId": "aa2ff083-ba07-41af-bf54-7524daef7cab",
        "colab": {
          "base_uri": "https://localhost:8080/",
          "height": 66
        }
      },
      "source": [
        "nltk.download('stopwords')"
      ],
      "execution_count": 14,
      "outputs": [
        {
          "output_type": "stream",
          "text": [
            "[nltk_data] Downloading package stopwords to /root/nltk_data...\n",
            "[nltk_data]   Package stopwords is already up-to-date!\n"
          ],
          "name": "stdout"
        },
        {
          "output_type": "execute_result",
          "data": {
            "text/plain": [
              "True"
            ]
          },
          "metadata": {
            "tags": []
          },
          "execution_count": 14
        }
      ]
    },
    {
      "cell_type": "code",
      "metadata": {
        "id": "dNS90LAMK1lT",
        "colab_type": "code",
        "colab": {}
      },
      "source": [
        "stop_words=set(stopwords.words('indonesian'))"
      ],
      "execution_count": 0,
      "outputs": []
    },
    {
      "cell_type": "code",
      "metadata": {
        "id": "mIKaO9RlK7XY",
        "colab_type": "code",
        "outputId": "e59acc7d-1764-428d-fc1e-38cbe462c5dc",
        "colab": {
          "base_uri": "https://localhost:8080/",
          "height": 33
        }
      },
      "source": [
        "len(stop_words)"
      ],
      "execution_count": 16,
      "outputs": [
        {
          "output_type": "execute_result",
          "data": {
            "text/plain": [
              "757"
            ]
          },
          "metadata": {
            "tags": []
          },
          "execution_count": 16
        }
      ]
    },
    {
      "cell_type": "markdown",
      "metadata": {
        "id": "KZoK9eSVSZc5",
        "colab_type": "text"
      },
      "source": [
        "## Split Data"
      ]
    },
    {
      "cell_type": "code",
      "metadata": {
        "id": "o4xufXHZShrD",
        "colab_type": "code",
        "colab": {}
      },
      "source": [
        "df_train = df.iloc[:math.ceil(df.shape[0]*0.7) , :]\n",
        "df_test = df.iloc[math.ceil(df.shape[0]*0.7):, :]"
      ],
      "execution_count": 0,
      "outputs": []
    },
    {
      "cell_type": "code",
      "metadata": {
        "id": "HV8cbeinmRiq",
        "colab_type": "code",
        "outputId": "fec12efa-8146-464f-a969-5a48e29e1628",
        "colab": {
          "base_uri": "https://localhost:8080/",
          "height": 0
        }
      },
      "source": [
        "df_train.shape"
      ],
      "execution_count": 18,
      "outputs": [
        {
          "output_type": "execute_result",
          "data": {
            "text/plain": [
              "(886, 3)"
            ]
          },
          "metadata": {
            "tags": []
          },
          "execution_count": 18
        }
      ]
    },
    {
      "cell_type": "code",
      "metadata": {
        "id": "rQBst459hP25",
        "colab_type": "code",
        "outputId": "30878db5-24ab-4f70-cc86-ac6d26e95e32",
        "colab": {
          "base_uri": "https://localhost:8080/",
          "height": 0
        }
      },
      "source": [
        "df_test.shape"
      ],
      "execution_count": 19,
      "outputs": [
        {
          "output_type": "execute_result",
          "data": {
            "text/plain": [
              "(379, 3)"
            ]
          },
          "metadata": {
            "tags": []
          },
          "execution_count": 19
        }
      ]
    },
    {
      "cell_type": "markdown",
      "metadata": {
        "id": "Nqdlf7gfQF3-",
        "colab_type": "text"
      },
      "source": [
        "# Feature Extraction"
      ]
    },
    {
      "cell_type": "markdown",
      "metadata": {
        "id": "HjbzZ9lwmhpI",
        "colab_type": "text"
      },
      "source": [
        "Count Vectorizer"
      ]
    },
    {
      "cell_type": "code",
      "metadata": {
        "id": "ON8w7KRNQKSa",
        "colab_type": "code",
        "outputId": "8d23679a-af54-4b42-e536-48151ec304e6",
        "colab": {
          "base_uri": "https://localhost:8080/",
          "height": 0
        }
      },
      "source": [
        "count_vect = CountVectorizer(stop_words=stop_words,analyzer='word')\n",
        "X_train_counts = count_vect.fit_transform(df_train['konten'])\n",
        "X_train_counts.shape"
      ],
      "execution_count": 20,
      "outputs": [
        {
          "output_type": "execute_result",
          "data": {
            "text/plain": [
              "(886, 15400)"
            ]
          },
          "metadata": {
            "tags": []
          },
          "execution_count": 20
        }
      ]
    },
    {
      "cell_type": "markdown",
      "metadata": {
        "id": "eWT8ThEkmps0",
        "colab_type": "text"
      },
      "source": [
        "TF-IDF Transformer"
      ]
    },
    {
      "cell_type": "code",
      "metadata": {
        "id": "c4kqv3_sXR7Y",
        "colab_type": "code",
        "outputId": "e42424bc-66ad-4b40-a579-fd28c6e3b352",
        "colab": {
          "base_uri": "https://localhost:8080/",
          "height": 0
        }
      },
      "source": [
        "tfidf_transformer = TfidfTransformer()\n",
        "X_train_tfidf = tfidf_transformer.fit_transform(X_train_counts)\n",
        "X_train_tfidf.shape"
      ],
      "execution_count": 21,
      "outputs": [
        {
          "output_type": "execute_result",
          "data": {
            "text/plain": [
              "(886, 15400)"
            ]
          },
          "metadata": {
            "tags": []
          },
          "execution_count": 21
        }
      ]
    },
    {
      "cell_type": "markdown",
      "metadata": {
        "id": "gEcSLD6fQL7S",
        "colab_type": "text"
      },
      "source": [
        "# Modelling"
      ]
    },
    {
      "cell_type": "markdown",
      "metadata": {
        "id": "_ZMUwe1ImyEY",
        "colab_type": "text"
      },
      "source": [
        "## Naive Bayes"
      ]
    },
    {
      "cell_type": "code",
      "metadata": {
        "id": "heljUfgKQNaP",
        "colab_type": "code",
        "colab": {}
      },
      "source": [
        "text_clf = Pipeline([('vect', CountVectorizer(stop_words=stop_words,analyzer='word')),\n",
        "                     ('clf', MultinomialNB())])"
      ],
      "execution_count": 0,
      "outputs": []
    },
    {
      "cell_type": "code",
      "metadata": {
        "id": "FB3PmWP4Y38x",
        "colab_type": "code",
        "colab": {}
      },
      "source": [
        "text_clf = text_clf.fit(df_train['konten'], df_train['kategori'])"
      ],
      "execution_count": 0,
      "outputs": []
    },
    {
      "cell_type": "code",
      "metadata": {
        "id": "-wzTCwwcZG_A",
        "colab_type": "code",
        "colab": {}
      },
      "source": [
        "pred = text_clf.predict(df_test['konten'])"
      ],
      "execution_count": 0,
      "outputs": []
    },
    {
      "cell_type": "code",
      "metadata": {
        "id": "X1ELwUIjZQmV",
        "colab_type": "code",
        "outputId": "d805a54b-2b9d-4e08-d150-4928740649c2",
        "colab": {
          "base_uri": "https://localhost:8080/",
          "height": 33
        }
      },
      "source": [
        "accuracy_score(df_test['kategori'],pred)"
      ],
      "execution_count": 49,
      "outputs": [
        {
          "output_type": "execute_result",
          "data": {
            "text/plain": [
              "0.9313984168865436"
            ]
          },
          "metadata": {
            "tags": []
          },
          "execution_count": 49
        }
      ]
    },
    {
      "cell_type": "markdown",
      "metadata": {
        "id": "GpxVqaKxm1VZ",
        "colab_type": "text"
      },
      "source": [
        "## Linear SVM"
      ]
    },
    {
      "cell_type": "code",
      "metadata": {
        "id": "YSPjbnULbhkY",
        "colab_type": "code",
        "colab": {}
      },
      "source": [
        "from sklearn.linear_model import SGDClassifier\n",
        "text_clf_svm = Pipeline([('vect', CountVectorizer(stop_words=stop_words,analyzer='word')),\n",
        "                         ('tfidf', TfidfTransformer()),\n",
        "                         ('clf-svm', SGDClassifier(loss='hinge', penalty='l2',alpha=1e-3, random_state=42)),\n",
        "                         ])"
      ],
      "execution_count": 0,
      "outputs": []
    },
    {
      "cell_type": "code",
      "metadata": {
        "id": "Dv00Xsacb2C-",
        "colab_type": "code",
        "colab": {}
      },
      "source": [
        "text_clf_svm = text_clf_svm.fit(df_train['konten'], df_train['kategori'])"
      ],
      "execution_count": 0,
      "outputs": []
    },
    {
      "cell_type": "code",
      "metadata": {
        "id": "JfYFOHsDb6zR",
        "colab_type": "code",
        "colab": {}
      },
      "source": [
        "pred = text_clf_svm.predict(df_test['konten'])"
      ],
      "execution_count": 0,
      "outputs": []
    },
    {
      "cell_type": "code",
      "metadata": {
        "id": "yIeh7hGbb_Me",
        "colab_type": "code",
        "outputId": "4b74b942-66ec-414b-ebdb-d73d2d9aee4d",
        "colab": {
          "base_uri": "https://localhost:8080/",
          "height": 33
        }
      },
      "source": [
        "accuracy_score(df_test['kategori'],pred)"
      ],
      "execution_count": 29,
      "outputs": [
        {
          "output_type": "execute_result",
          "data": {
            "text/plain": [
              "0.941952506596306"
            ]
          },
          "metadata": {
            "tags": []
          },
          "execution_count": 29
        }
      ]
    },
    {
      "cell_type": "markdown",
      "metadata": {
        "id": "FBtyZWMrQORt",
        "colab_type": "text"
      },
      "source": [
        "# Evaluation"
      ]
    },
    {
      "cell_type": "markdown",
      "metadata": {
        "id": "JZzFFlNzo29p",
        "colab_type": "text"
      },
      "source": [
        "## Naive Bayes"
      ]
    },
    {
      "cell_type": "code",
      "metadata": {
        "id": "fnSiB_D_n58r",
        "colab_type": "code",
        "outputId": "a9d89f6d-b45e-4646-c7a4-eade6303fa6a",
        "colab": {
          "base_uri": "https://localhost:8080/",
          "height": 33
        }
      },
      "source": [
        "scores = cross_val_score(text_clf, df_train['konten'],df_train['kategori'])\n",
        "print(\"Accuracy: %0.2f (+/- %0.2f)\" % (scores.mean(), scores.std() * 2))"
      ],
      "execution_count": 50,
      "outputs": [
        {
          "output_type": "stream",
          "text": [
            "Accuracy: 0.95 (+/- 0.03)\n"
          ],
          "name": "stdout"
        }
      ]
    },
    {
      "cell_type": "markdown",
      "metadata": {
        "colab_type": "text",
        "id": "AdsaXAuELvCe"
      },
      "source": [
        "### Own Sentence Test"
      ]
    },
    {
      "cell_type": "code",
      "metadata": {
        "colab_type": "code",
        "outputId": "32cf2558-c747-47c0-c60d-37eba59ec468",
        "id": "N6SXF8S3LvCg",
        "colab": {
          "base_uri": "https://localhost:8080/",
          "height": 33
        }
      },
      "source": [
        "text_clf.predict(['jalan jalan ke kota denpasar sangat menyenangkan karena kita dapat mengunjungi berbagai tempat wisata'])"
      ],
      "execution_count": 51,
      "outputs": [
        {
          "output_type": "execute_result",
          "data": {
            "text/plain": [
              "array(['travel'], dtype='<U7')"
            ]
          },
          "metadata": {
            "tags": []
          },
          "execution_count": 51
        }
      ]
    },
    {
      "cell_type": "code",
      "metadata": {
        "colab_type": "code",
        "outputId": "7acfee4f-c5db-4b9b-8d7a-563f338b1080",
        "id": "ODnLvGJHLvCk",
        "colab": {
          "base_uri": "https://localhost:8080/",
          "height": 33
        }
      },
      "source": [
        "text_clf.predict(['penurunan mata uang rupiah terjadi karena banyaknya investor asing yang menarik uangnya keluar indonesia'])"
      ],
      "execution_count": 52,
      "outputs": [
        {
          "output_type": "execute_result",
          "data": {
            "text/plain": [
              "array(['finance'], dtype='<U7')"
            ]
          },
          "metadata": {
            "tags": []
          },
          "execution_count": 52
        }
      ]
    },
    {
      "cell_type": "code",
      "metadata": {
        "colab_type": "code",
        "outputId": "468bfb08-b5d6-4eef-adc7-dbad33513ea6",
        "id": "nuEt7HfYLvCn",
        "colab": {
          "base_uri": "https://localhost:8080/",
          "height": 33
        }
      },
      "source": [
        "text_clf.predict(['saya menikmati kuliner jajanan dan berbagai jenis masakan khas yogyakarta'])"
      ],
      "execution_count": 55,
      "outputs": [
        {
          "output_type": "execute_result",
          "data": {
            "text/plain": [
              "array(['food'], dtype='<U7')"
            ]
          },
          "metadata": {
            "tags": []
          },
          "execution_count": 55
        }
      ]
    },
    {
      "cell_type": "markdown",
      "metadata": {
        "id": "c6hG3QtVo5hb",
        "colab_type": "text"
      },
      "source": [
        "## Linear SVM"
      ]
    },
    {
      "cell_type": "code",
      "metadata": {
        "id": "_ZvImfcXnOvO",
        "colab_type": "code",
        "outputId": "a90ff35c-9fa4-44b1-f451-89c1f065b847",
        "colab": {
          "base_uri": "https://localhost:8080/",
          "height": 0
        }
      },
      "source": [
        "scores = cross_val_score(text_clf_svm, df_train['konten'],df_train['kategori'])\n",
        "print(\"Accuracy: %0.2f (+/- %0.2f)\" % (scores.mean(), scores.std() * 2))"
      ],
      "execution_count": 34,
      "outputs": [
        {
          "output_type": "stream",
          "text": [
            "Accuracy: 0.94 (+/- 0.03)\n"
          ],
          "name": "stdout"
        }
      ]
    },
    {
      "cell_type": "markdown",
      "metadata": {
        "id": "MHX4tc84Lm_K",
        "colab_type": "text"
      },
      "source": [
        "### Own Sentence Test"
      ]
    },
    {
      "cell_type": "code",
      "metadata": {
        "id": "HSsxt4q8I55y",
        "colab_type": "code",
        "outputId": "09d6b48b-d2f6-4b09-8675-039590ce9709",
        "colab": {
          "base_uri": "https://localhost:8080/",
          "height": 0
        }
      },
      "source": [
        "text_clf_svm.predict(['jalan jalan ke kota denpasar sangat menyenangkan karena kita dapat mengunjungi berbagai tempat wisata'])"
      ],
      "execution_count": 35,
      "outputs": [
        {
          "output_type": "execute_result",
          "data": {
            "text/plain": [
              "array(['travel'], dtype='<U7')"
            ]
          },
          "metadata": {
            "tags": []
          },
          "execution_count": 35
        }
      ]
    },
    {
      "cell_type": "code",
      "metadata": {
        "id": "rcC5LifPJwlk",
        "colab_type": "code",
        "outputId": "e756ea08-179f-4f3d-96a3-7f5d05be39c6",
        "colab": {
          "base_uri": "https://localhost:8080/",
          "height": 0
        }
      },
      "source": [
        "text_clf_svm.predict(['penurunan mata uang rupiah terjadi karena banyaknya investor asing yang menarik uangnya keluar indonesia'])"
      ],
      "execution_count": 36,
      "outputs": [
        {
          "output_type": "execute_result",
          "data": {
            "text/plain": [
              "array(['finance'], dtype='<U7')"
            ]
          },
          "metadata": {
            "tags": []
          },
          "execution_count": 36
        }
      ]
    },
    {
      "cell_type": "code",
      "metadata": {
        "id": "Q4F6O1XUJ7-p",
        "colab_type": "code",
        "outputId": "1399b9f6-5f87-4ad9-9cc4-6e3487101c27",
        "colab": {
          "base_uri": "https://localhost:8080/",
          "height": 0
        }
      },
      "source": [
        "text_clf_svm.predict(['saya menikmati kuliner jajanan dan berbagai jenis masakan khas yogyakarta'])"
      ],
      "execution_count": 37,
      "outputs": [
        {
          "output_type": "execute_result",
          "data": {
            "text/plain": [
              "array(['food'], dtype='<U7')"
            ]
          },
          "metadata": {
            "tags": []
          },
          "execution_count": 37
        }
      ]
    }
  ]
}